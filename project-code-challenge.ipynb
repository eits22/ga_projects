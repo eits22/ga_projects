{
 "cells": [
  {
   "cell_type": "markdown",
   "metadata": {},
   "source": [
    "<img src=\"http://imgur.com/1ZcRyrc.png\" style=\"float: left; margin: 20px; height: 55px\">\n",
    "\n",
    "# Project 1: Python Coding Exercises\n",
    "\n",
    "_Authors: Joseph Nelson (DC) _\n",
    "\n",
    "---"
   ]
  },
  {
   "cell_type": "markdown",
   "metadata": {},
   "source": [
    "The following code challenges are drawn from common exercises used in technical interviews.\n",
    "\n",
    "Please note that there may be several ways to approach each challenge. If you get stuck, try mapping out your approach in pseudocode first. Finally, while solutions to problems like these may be found online, remember that if you copy/paste code that you can't explain, you'll be missing out on the point of the project. The only way to truly learn a new skill is through practice, trial, and error - we can only help you improve by understanding where you are having trouble."
   ]
  },
  {
   "cell_type": "markdown",
   "metadata": {},
   "source": [
    "### Challenge 1: Largest Palindrome\n",
    "A palindromic number reads the same both ways. For example, 1234321 is a palindrome. The largest palindrome made from the product of two two-digit numbers is 9009 = 91 × 99. Find the largest palindrome made from the product of two three-digit numbers. Afterward, write a brief explanation walking through your code's logic in markdown."
   ]
  },
  {
   "cell_type": "code",
   "execution_count": null,
   "metadata": {
    "collapsed": true
   },
   "outputs": [],
   "source": [
    "#Create highest three-digit number\n",
    "palindrome = 999\n",
    "\n",
    "while palindrome > 0:\n",
    "\n",
    "#Mulitply number together and convert number to a string so that\n",
    "#the string can be indexed\n",
    "\tnew_num = palindrome * palindrome\n",
    "\tnew_num = str(new_num)\n",
    "\n",
    "#Reverse index string\n",
    "\treverse_new_num = new_num[::-1]\n",
    "\n",
    "#If the reverse index equals the initial string, print the string and kill the code\n",
    "#Otherwise, subtract 1 from the initial three-digit number and run again\n",
    "\tif new_num == reverse_new_num: \n",
    "\t\tprint(new_num)\n",
    "\t\tbreak\n",
    "\telse:\n",
    "\t\tpalindrome -= 1"
   ]
  },
  {
   "cell_type": "markdown",
   "metadata": {},
   "source": [
    "\n",
    "### Challenge 2: Summation of Primes\n",
    "The sum of the primes below 10 is 2 + 3 + 5 + 7 = 17. Find the sum of all the primes below 2,000. Afterward, write a brief explanation walking through your code's logic in markdown."
   ]
  },
  {
   "cell_type": "code",
   "execution_count": null,
   "metadata": {
    "collapsed": true
   },
   "outputs": [],
   "source": [
    "#Create an empty list to put the prime numbers\n",
    "#And start the count at 1\n",
    "is_prime = []\n",
    "num = 1\n",
    "\n",
    "#While the number is less than 2000\n",
    "while num < 2000:\n",
    "#I'm positive there is a better way to do this\n",
    "#But I started but adding a few prime numbers to the list\t\n",
    "\tif num == 2 or num == 3 or num == 5 or num == 7 or num == 11:\n",
    "\t\tis_prime.append(num)\n",
    "\t\tnum += 1\n",
    "#If the number divided by each of the numbers yields \n",
    "#this is also where my code breaks\n",
    "#I can't figure out the type change here - everything gives me an error\n",
    "\telif num % is_prime != 0:\n",
    "\t\tis_prime.append(num)\n",
    "\t\tnum += 1\n",
    "#If the number yields a remainder, add 1 and start again\t\n",
    "\telse:\n",
    "\t\tnum += 1\n",
    "\n",
    "#Print the list of prime numbers and then print the sum of all primes\n",
    "print(is_prime)\n",
    "\n",
    "prime_sum = sum(is_prime)\n",
    "print(prime_sum)"
   ]
  },
  {
   "cell_type": "markdown",
   "metadata": {},
   "source": [
    "### Challenge 3: Multiples of 3 and 5\n",
    "If we list all of the natural numbers below 10 that are multiples of 3 or 5, we get 3, 5, 6, and 9. The sum of these multiples is 23. Find the sum of all the multiples of 3 and 5 below 1,000. Afterward, write a brief explanation walking through your code's logic in markdown."
   ]
  },
  {
   "cell_type": "code",
   "execution_count": null,
   "metadata": {
    "collapsed": true
   },
   "outputs": [],
   "source": [
    "#Start at 1 and create an empty list\n",
    "num = 1\n",
    "multiple = []\n",
    "\n",
    "#We need to add all the multiples of 3 and 5 that are less than 1000\n",
    "#While num is less than 1000, if a number divided by 3 or divided by 5 returns\n",
    "#No remainder, add that number to the list\n",
    "#Otherwise, just add 1 to num and try again\n",
    "while num <1000:\n",
    "\tif num % 3 == 0 or num % 5 == 0:\n",
    "\t\tmultiple.append(num)\n",
    "\t\tnum += 1\n",
    "\telse:\n",
    "\t\tnum += 1\n",
    "\n",
    "#Once the code has run from 1 to 999, print the sum of all number\n",
    "#Within the list\n",
    "\n",
    "print(multiple)\n",
    "print(sum(multiple))"
   ]
  },
  {
   "cell_type": "markdown",
   "metadata": {},
   "source": [
    "### Challenge 4: String Compressor\n",
    "Implement a method to perform basic string compression using the counts of repeated characters. (This is called run-length encoding.) For example, the string \"aabcccccaaa\" would become a2b1c5a3. If the “compressed” string would not become smaller than the original string, your method should return the original string. You can assume the string has only uppercase and lowercase letters (a–z). Specify whether your solution is case sensitive or case insensitive and what you would need to change to make it the other. Afterward, write a brief explanation walking through your code's logic in markdown."
   ]
  },
  {
   "cell_type": "code",
   "execution_count": null,
   "metadata": {
    "collapsed": true
   },
   "outputs": [],
   "source": [
    "x = ('aaaaaaaaafffff')\n",
    "\n",
    "def search()\n",
    "\tsearch = num + 1\n",
    "\n",
    "\n",
    "if x[0] == x[search]:\n",
    "\tprint(x[0] + str(len(x)))\n",
    "\tx = x[::1]\n",
    "    \n",
    "    \n",
    "#I struggled with this one. Using a test string I couldn't figure out how to\n",
    "#have it count a new letter, only the string as a whole."
   ]
  },
  {
   "cell_type": "markdown",
   "metadata": {},
   "source": [
    "### *BONUS* Challenge: FizzBuzz\n",
    "Write a program that prints all of the numbers from 1 to 100. For multiples of 3, instead of the number, print \"Fizz;\" for multiples of 5, print \"Buzz.\" For numbers that are multiples of both 3 and 5, print \"FizzBuzz.\" Afterward, write a brief explanation walking through your code's logic in markdown."
   ]
  },
  {
   "cell_type": "code",
   "execution_count": null,
   "metadata": {
    "collapsed": true
   },
   "outputs": [],
   "source": [
    "#Start with a for loop that runs from 1-100\n",
    "\n",
    "for i in range(1,101):\n",
    "#If the number is divided by 3 and doesn't have a remainder,\n",
    "#Print Fizz and add one to i\t\n",
    "\tif i % 3 == 0:\n",
    "\t\tprint('Fizz')\n",
    "\t\ti += 1\n",
    "#If the number is divided by 5 and doesn't have a remainder,\n",
    "#Print Buzz and add one to i\n",
    "\telif i % 5 == 0:\n",
    "\t\tprint('Buzz')\n",
    "\t\ti += 1\n",
    "#If the number is divided by 3 and 5 and doesn't have a remainder,\n",
    "#Print FizzBuzz and add one to i\n",
    "\telif i % 3 and i % 5 == 0:\n",
    "\t\tprint('FizzBuzz')\n",
    "\t\ti += 1\n",
    "#If the number isn't divisible by 3 or 5 add one to i\n",
    "\telse:\n",
    "\t\tprint(i)\n",
    "\t\ti += i"
   ]
  }
 ],
 "metadata": {
  "anaconda-cloud": {},
  "kernelspec": {
   "display_name": "Python 3",
   "language": "python",
   "name": "python3"
  },
  "language_info": {
   "codemirror_mode": {
    "name": "ipython",
    "version": 3
   },
   "file_extension": ".py",
   "mimetype": "text/x-python",
   "name": "python",
   "nbconvert_exporter": "python",
   "pygments_lexer": "ipython3",
   "version": "3.7.1"
  }
 },
 "nbformat": 4,
 "nbformat_minor": 2
}
